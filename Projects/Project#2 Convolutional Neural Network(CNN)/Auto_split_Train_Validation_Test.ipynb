{
  "nbformat": 4,
  "nbformat_minor": 0,
  "metadata": {
    "colab": {
      "name": "Auto_split_Train_Validation_Test.ipynb",
      "provenance": []
    },
    "kernelspec": {
      "name": "python3",
      "display_name": "Python 3"
    }
  },
  "cells": [
    {
      "cell_type": "code",
      "metadata": {
        "id": "GVmEDW5_KyWn"
      },
      "source": [
        "import os\n",
        "import numpy as np\n",
        "import shutil"
      ],
      "execution_count": null,
      "outputs": []
    },
    {
      "cell_type": "code",
      "metadata": {
        "id": "1GsjEiwQK9D3",
        "outputId": "df0f4603-37ec-4cce-c519-9525362c7af0",
        "colab": {
          "base_uri": "https://localhost:8080/",
          "height": 34
        }
      },
      "source": [
        "from google.colab import drive\n",
        "drive.mount('/content/drive')"
      ],
      "execution_count": null,
      "outputs": [
        {
          "output_type": "stream",
          "text": [
            "Mounted at /content/drive\n"
          ],
          "name": "stdout"
        }
      ]
    },
    {
      "cell_type": "code",
      "metadata": {
        "id": "JN0hrqG_K1sN"
      },
      "source": [
        "# # Creating Train / Val / Test folders (One time use)\n",
        "root_dir = '/content/drive/Shared drives/OPIM 5509 Introduction to Deep Learning - Group10/Project 2/Datasets/mask or not 200'\n",
        "posCls = '/People with mask 200'\n",
        "negCls = '/people face 200'\n",
        "\n",
        "os.makedirs(root_dir +'/train' + posCls)\n",
        "os.makedirs(root_dir +'/train' + negCls)\n",
        "os.makedirs(root_dir +'/val' + posCls)\n",
        "os.makedirs(root_dir +'/val' + negCls)\n",
        "os.makedirs(root_dir +'/test' + posCls)\n",
        "os.makedirs(root_dir +'/test' + negCls)"
      ],
      "execution_count": null,
      "outputs": []
    },
    {
      "cell_type": "code",
      "metadata": {
        "id": "q_O24nXJK32l",
        "outputId": "b477096a-e2e5-4f55-da07-4c4caf063803",
        "colab": {
          "base_uri": "https://localhost:8080/",
          "height": 85
        }
      },
      "source": [
        "# Creating partitions of the data after shuffeling\n",
        "currentCls = posCls\n",
        "src = \"/content/drive/Shared drives/OPIM 5509 Introduction to Deep Learning - Group10/Project 2/Datasets/mask or not 200\"+currentCls # Folder to copy images from\n",
        "\n",
        "allFileNames = os.listdir(src)\n",
        "np.random.shuffle(allFileNames)\n",
        "train_FileNames, val_FileNames, test_FileNames = np.split(np.array(allFileNames),\n",
        "                                                          [int(len(allFileNames)*0.7), int(len(allFileNames)*0.85)])\n",
        "\n",
        "#1 - val_ratio + test_ratio = 0.7\n",
        "#1 - test_ratio= 0.85\n",
        "train_FileNames = [src+'/'+ name for name in train_FileNames.tolist()]\n",
        "val_FileNames = [src+'/' + name for name in val_FileNames.tolist()]\n",
        "test_FileNames = [src+'/' + name for name in test_FileNames.tolist()]\n",
        "\n",
        "print('Total images: ', len(allFileNames))\n",
        "print('Training: ', len(train_FileNames))\n",
        "print('Validation: ', len(val_FileNames))\n",
        "print('Testing: ', len(test_FileNames))"
      ],
      "execution_count": null,
      "outputs": [
        {
          "output_type": "stream",
          "text": [
            "Total images:  376\n",
            "Training:  263\n",
            "Validation:  56\n",
            "Testing:  57\n"
          ],
          "name": "stdout"
        }
      ]
    },
    {
      "cell_type": "code",
      "metadata": {
        "id": "VggE7QB-VHMX"
      },
      "source": [
        "# Copy-pasting images\n",
        "for name in train_FileNames:\n",
        "    shutil.copy(name, \"/content/drive/Shared drives/OPIM 5509 Introduction to Deep Learning - Group10/Project 2/Datasets/mask or not 200/train\"+currentCls)\n",
        "\n",
        "for name in val_FileNames:\n",
        "    shutil.copy(name, \"/content/drive/Shared drives/OPIM 5509 Introduction to Deep Learning - Group10/Project 2/Datasets/mask or not 200/val\"+currentCls)\n",
        "\n",
        "for name in test_FileNames:\n",
        "    shutil.copy(name, \"/content/drive/Shared drives/OPIM 5509 Introduction to Deep Learning - Group10/Project 2/Datasets/mask or not 200/test\"+currentCls)"
      ],
      "execution_count": null,
      "outputs": []
    },
    {
      "cell_type": "code",
      "metadata": {
        "id": "yxHkfqzIUmhI",
        "outputId": "a4644626-7886-4355-c61a-69fa406a4286",
        "colab": {
          "base_uri": "https://localhost:8080/",
          "height": 85
        }
      },
      "source": [
        "currentCls = negCls\n",
        "src = \"/content/drive/Shared drives/OPIM 5509 Introduction to Deep Learning - Group10/Project 2/Datasets/mask or not 200\"+currentCls # Folder to copy images from\n",
        "\n",
        "allFileNames = os.listdir(src)\n",
        "np.random.shuffle(allFileNames)\n",
        "train_FileNames, val_FileNames, test_FileNames = np.split(np.array(allFileNames),\n",
        "                                                          [int(len(allFileNames)*0.7), int(len(allFileNames)*0.85)])\n",
        "\n",
        "\n",
        "train_FileNames = [src+'/'+ name for name in train_FileNames.tolist()]\n",
        "val_FileNames = [src+'/' + name for name in val_FileNames.tolist()]\n",
        "test_FileNames = [src+'/' + name for name in test_FileNames.tolist()]\n",
        "\n",
        "print('Total images: ', len(allFileNames))\n",
        "print('Training: ', len(train_FileNames))\n",
        "print('Validation: ', len(val_FileNames))\n",
        "print('Testing: ', len(test_FileNames))"
      ],
      "execution_count": null,
      "outputs": [
        {
          "output_type": "stream",
          "text": [
            "Total images:  200\n",
            "Training:  140\n",
            "Validation:  30\n",
            "Testing:  30\n"
          ],
          "name": "stdout"
        }
      ]
    },
    {
      "cell_type": "code",
      "metadata": {
        "id": "VhUgYGICK5aD"
      },
      "source": [
        "# Copy-pasting images\n",
        "for name in train_FileNames:\n",
        "    shutil.copy(name, \"/content/drive/Shared drives/OPIM 5509 Introduction to Deep Learning - Group10/Project 2/Datasets/mask or not 200/train\"+currentCls)\n",
        "\n",
        "for name in val_FileNames:\n",
        "    shutil.copy(name, \"/content/drive/Shared drives/OPIM 5509 Introduction to Deep Learning - Group10/Project 2/Datasets/mask or not 200/val\"+currentCls)\n",
        "\n",
        "for name in test_FileNames:\n",
        "    shutil.copy(name, \"/content/drive/Shared drives/OPIM 5509 Introduction to Deep Learning - Group10/Project 2/Datasets/mask or not 200/test\"+currentCls)"
      ],
      "execution_count": null,
      "outputs": []
    }
  ]
}